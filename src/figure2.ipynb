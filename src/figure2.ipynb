{
 "cells": [
  {
   "cell_type": "code",
   "execution_count": 1,
   "metadata": {
    "collapsed": true
   },
   "outputs": [],
   "source": [
    "from util import *\n",
    "import matplotlib.pyplot as plt\n",
    "import seaborn as ses"
   ]
  },
  {
   "cell_type": "code",
   "execution_count": 2,
   "metadata": {},
   "outputs": [
    {
     "name": "stdout",
     "output_type": "stream",
     "text": [
      "loading train ...\n",
      "load train finish\n",
      "loading test ...\n",
      "load test finish\n"
     ]
    }
   ],
   "source": [
    "train = load_train()\n",
    "test = load_test()"
   ]
  },
  {
   "cell_type": "code",
   "execution_count": 3,
   "metadata": {},
   "outputs": [
    {
     "data": {
      "text/plain": [
       "Index([u'index', u'id', u'vendor_id', u'pickup_datetime', u'dropoff_datetime',\n",
       "       u'passenger_count', u'pickup_longitude', u'pickup_latitude',\n",
       "       u'dropoff_longitude', u'dropoff_latitude', u'store_and_fwd_flag',\n",
       "       u'trip_duration', u'starting_street', u'end_street', u'total_distance',\n",
       "       u'total_travel_time', u'number_of_steps', u'street_for_each_step',\n",
       "       u'distance_per_step', u'travel_time_per_step', u'step_maneuvers',\n",
       "       u'step_direction', u'step_location_list', u'log_trip_duration',\n",
       "       u'start_time', u'month', u'day', u'hour', u'minute', u'second',\n",
       "       u'weekday', u'dayofyear', u'weekofyear', u'is_weekend',\n",
       "       u'haversine_distance', u'manhattan_distance', u'bearing', u'super_long',\n",
       "       u'left', u'right', u'straight', u'uturn', u'slight_left',\n",
       "       u'slight_right', u'sharp_left', u'sharp_right', u'sum_all',\n",
       "       u'ratio_n_step_other_number_of_steps', u'sum_all_is_zero',\n",
       "       u'sum_left_right_straight', u'ratio_left_sum_all',\n",
       "       u'ratio_right_sum_all', u'ratio_straight_sum_all',\n",
       "       u'ratio_right_left_sum_all', u'ratio_straight_right_sum_all',\n",
       "       u'ratio_left_straight_sum_all', u'ratio_uturn_sum_all',\n",
       "       u'ratio_slight_left_sum_all', u'ratio_slight_right_sum_all',\n",
       "       u'ratio_sharp_left_sum_all', u'ratio_sharp_right_sum_all',\n",
       "       u'store_and_fwd_int'],\n",
       "      dtype='object')"
      ]
     },
     "execution_count": 3,
     "metadata": {},
     "output_type": "execute_result"
    }
   ],
   "source": [
    "train.columns"
   ]
  },
  {
   "cell_type": "code",
   "execution_count": 19,
   "metadata": {},
   "outputs": [
    {
     "data": {
      "text/plain": [
       "(1458639, 62)"
      ]
     },
     "execution_count": 19,
     "metadata": {},
     "output_type": "execute_result"
    }
   ],
   "source": [
    "train.shape\n"
   ]
  },
  {
   "cell_type": "code",
   "execution_count": 25,
   "metadata": {},
   "outputs": [
    {
     "data": {
      "image/png": "[encoded data removed]",
      "text/plain": [
       "<matplotlib.figure.Figure at 0x7f8bf5750550>"
      ]
     },
     "metadata": {},
     "output_type": "display_data"
    },
    {
     "data": {
      "image/png": "[encoded data removed]",
      "text/plain": [
       "<matplotlib.figure.Figure at 0x7f8bf3af3a10>"
      ]
     },
     "metadata": {},
     "output_type": "display_data"
    }
   ],
   "source": [
    "train_h0 = train[(train.haversine_distance<0.1) & train.haversine_distance<0.1]\n",
    "ses.distplot(train_h0.log_trip_duration)\n",
    "plt.show()\n",
    "ses.distplot(train_h0.total_distance)\n",
    "plt.show()\n"
   ]
  },
  {
   "cell_type": "code",
   "execution_count": 18,
   "metadata": {},
   "outputs": [
    {
     "data": {
      "text/plain": [
       "(2475, 58)"
      ]
     },
     "execution_count": 18,
     "metadata": {},
     "output_type": "execute_result"
    }
   ],
   "source": [
    "test_h0 = test[test.haversine_distance==0]\n",
    "test_h0.shape\n"
   ]
  },
  {
   "cell_type": "code",
   "execution_count": null,
   "metadata": {
    "collapsed": true
   },
   "outputs": [],
   "source": []
  }
 ],
 "metadata": {
  "kernelspec": {
   "display_name": "Python 2",
   "language": "python",
   "name": "python2"
  },
  "language_info": {
   "codemirror_mode": {
    "name": "ipython",
    "version": 2
   },
   "file_extension": ".py",
   "mimetype": "text/x-python",
   "name": "python",
   "nbconvert_exporter": "python",
   "pygments_lexer": "ipython2",
   "version": "2.7.12"
  }
 },
 "nbformat": 4,
 "nbformat_minor": 2
}
