{
 "cells": [
  {
   "cell_type": "code",
   "execution_count": 3,
   "metadata": {},
   "outputs": [],
   "source": [
    "import numpy as np\n",
    "import pandas as pd\n",
    "from util import save_result,preprocess_time\n",
    "\n",
    "from sklearn.neighbors import KNeighborsRegressor\n",
    "from sklearn.preprocessing import MinMaxScaler\n",
    "from sklearn.model_selection import GridSearchCV"
   ]
  },
  {
   "cell_type": "code",
   "execution_count": 4,
   "metadata": {
    "collapsed": true
   },
   "outputs": [],
   "source": [
    "test = pd.read_csv(\"../data/test.csv\")\n",
    "train = pd.read_csv(\"../data/train.csv\")\n",
    "test = preprocess_time(test)\n",
    "train = preprocess_time(train)"
   ]
  },
  {
   "cell_type": "code",
   "execution_count": 3,
   "metadata": {},
   "outputs": [
    {
     "name": "stdout",
     "output_type": "stream",
     "text": [
      "{1: 845.43824354086871, 2: 1058.6431638006823}\n"
     ]
    }
   ],
   "source": [
    "#按 vender_id 取平均值\n",
    "vendorids = train.vendor_id.unique()\n",
    "avg_value_by_verndorid = {}\n",
    "for i in vendorids:\n",
    "    avg_value_by_verndorid[i] = train[train.vendor_id == i].trip_duration.mean()\n",
    "\n",
    "print avg_value_by_verndorid\n",
    "test[\"trip_duration\"] = 0\n",
    "for v_id in vendorids:\n",
    "    test.loc[test.vendor_id == v_id,\"trip_duration\"] = avg_value_by_verndorid[v_id]\n",
    "save_result(test[[\"id\",\"trip_duration\"]],\"../result/vender_id_avg.csv\")"
   ]
  },
  {
   "cell_type": "code",
   "execution_count": 7,
   "metadata": {},
   "outputs": [
    {
     "name": "stdout",
     "output_type": "stream",
     "text": [
      "{0: 936.65730168269226, 1: 903.08711207902309, 2: 890.07693407693409, 3: 890.07087820052641, 4: 921.976443768997, 5: 822.29896013864823, 6: 797.43494345524539, 7: 831.75834532374097, 8: 924.5591994392496, 9: 933.52891535994559, 10: 933.36760548313646, 11: 966.43028214264848, 12: 993.53307918133373, 13: 1032.2463587648483, 14: 1075.7892639853551, 15: 1118.8325326203505, 16: 1080.1462845769906, 17: 1030.5816194448439, 18: 981.58323399558503, 19: 894.35667936395441, 20: 879.46154486630508, 21: 890.52122112015206, 22: 1023.4559210853253, 23: 925.09140932865228}\n"
     ]
    }
   ],
   "source": [
    "# 按 时间 hour 取平均\n",
    "avg_value_by_hour = {}\n",
    "hours = train.hour.unique()\n",
    "for h in hours:\n",
    "    avg_value_by_hour[h] = train[train.hour==h].trip_duration.mean()\n",
    "print avg_value_by_hour\n",
    "for h in hours:\n",
    "    test.loc[test.hour==h,\"trip_duration\"]=avg_value_by_hour[h]\n",
    "save_result(test[[\"id\",\"trip_duration\"]],\"../result/hour_avg.csv\")"
   ]
  },
  {
   "cell_type": "code",
   "execution_count": 34,
   "metadata": {},
   "outputs": [
    {
     "name": "stdout",
     "output_type": "stream",
     "text": [
      "Index([u'id', u'vendor_id', u'pickup_datetime', u'dropoff_datetime',\n",
      "       u'passenger_count', u'pickup_longitude', u'pickup_latitude',\n",
      "       u'dropoff_longitude', u'dropoff_latitude', u'store_and_fwd_flag',\n",
      "       u'trip_duration', u'start_time', u'month', u'day', u'hour', u'minute',\n",
      "       u'second', u'weekday'],\n",
      "      dtype='object')\n"
     ]
    }
   ],
   "source": [
    "print train.columns"
   ]
  },
  {
   "cell_type": "code",
   "execution_count": 33,
   "metadata": {},
   "outputs": [
    {
     "name": "stdout",
     "output_type": "stream",
     "text": [
      "Index([u'id', u'vendor_id', u'pickup_datetime', u'dropoff_datetime',\n",
      "       u'passenger_count', u'pickup_longitude', u'pickup_latitude',\n",
      "       u'dropoff_longitude', u'dropoff_latitude', u'store_and_fwd_flag',\n",
      "       u'trip_duration', u'start_time', u'month', u'day', u'hour', u'minute',\n",
      "       u'second', u'weekday'],\n",
      "      dtype='object')\n"
     ]
    }
   ],
   "source": [
    "# KNN regressor start_end_Lon_lat\n",
    "\n",
    "min_max_scaler = MinMaxScaler()\n",
    "train_x = train[[\"pickup_longitude\",\"pickup_latitude\",\"dropoff_longitude\",\"dropoff_latitude\"]].values\n",
    "train_y = train[\"trip_duration\"].values\n",
    "test_x = test[[\"pickup_longitude\",\"pickup_latitude\",\"dropoff_longitude\",\"dropoff_latitude\"]].values\n",
    "min_max_scaler.fit(np.concatenate([train_x,test_x]))\n",
    "transform_train_x = min_max_scaler.transform(train_x)\n",
    "transform_test_x = min_max_scaler.transform(test_x)\n",
    "model = KNeighborsRegressor()\n",
    "model.fit(transform_train_x,train_y)\n",
    "predicts = model.predict(transform_test_x)\n",
    "test[\"trip_duration\"] = predicts\n",
    "save_result(test[[\"id\",\"trip_duration\"]],\"../result/start_end_Lon_Lat_KNN_default_avg.csv\")"
   ]
  },
  {
   "cell_type": "code",
   "execution_count": 44,
   "metadata": {},
   "outputs": [],
   "source": [
    "# KNN regressor start_end_Lon_lat and hour,minute,second\n",
    "\n",
    "min_max_scaler = MinMaxScaler()\n",
    "train_x = train[[\"pickup_longitude\",\"pickup_latitude\",\"dropoff_longitude\",\"dropoff_latitude\"]].values\n",
    "train_y = train[\"trip_duration\"].values\n",
    "test_x = test[[\"pickup_longitude\",\"pickup_latitude\",\"dropoff_longitude\",\"dropoff_latitude\"]].values\n",
    "train_x_hour_minute_second = train[[\"hour\",\"minute\",\"second\"]].values\n",
    "train_x_seconds = train_x_hour_minute_second[:,0]*3600 + train_x_hour_minute_second[:,1]*60 + train_x_hour_minute_second[:,2]\n",
    "train_x_seconds = train_x_seconds.reshape(len(train_x_seconds),1)\n",
    "train_x = np.concatenate([train_x,train_x_seconds],axis=1)\n",
    "\n",
    "test_x_hour_minute_second = test[[\"hour\",\"minute\",\"second\"]].values\n",
    "test_x_seconds = test_x_hour_minute_second[:,0]*3600 + test_x_hour_minute_second[:,1]*60 + test_x_hour_minute_second[:,2]\n",
    "test_x_seconds = test_x_seconds.reshape(len(test_x_seconds),1)\n",
    "test_x = np.concatenate([test_x,test_x_seconds],axis=1)\n",
    "\n",
    "min_max_scaler.fit(np.concatenate([train_x,test_x]))\n",
    "transform_train_x = min_max_scaler.transform(train_x)\n",
    "transform_test_x = min_max_scaler.transform(test_x)\n",
    "model = KNeighborsRegressor()\n",
    "model.fit(transform_train_x,train_y)\n",
    "predicts = model.predict(transform_test_x)\n",
    "test[\"trip_duration\"] = predicts\n",
    "save_result(test[[\"id\",\"trip_duration\"]],\"../result/start_end_Lon_Lat_hour_minute_second_KNN_default_avg.csv\")"
   ]
  },
  {
   "cell_type": "code",
   "execution_count": null,
   "metadata": {},
   "outputs": [
    {
     "name": "stdout",
     "output_type": "stream",
     "text": [
      "GridSearchCV(cv=5, error_score='raise',\n",
      "       estimator=KNeighborsRegressor(algorithm='auto', leaf_size=30, metric='minkowski',\n",
      "          metric_params=None, n_jobs=1, n_neighbors=5, p=2,\n",
      "          weights='uniform'),\n",
      "       fit_params=None, iid=True, n_jobs=1,\n",
      "       param_grid={'n_neighbors': [10, 20, 30], 'weights': ['uniform', 'distance'], 'leaf_size': [30, 50, 70], 'p': [1, 2, 3]},\n",
      "       pre_dispatch='2*n_jobs', refit=True, return_train_score=True,\n",
      "       scoring='neg_mean_squared_log_error', verbose=2)\n",
      "Fitting 5 folds for each of 54 candidates, totalling 270 fits\n",
      "[CV] n_neighbors=10, weights=uniform, leaf_size=30, p=1 ..............\n",
      "[CV]  n_neighbors=10, weights=uniform, leaf_size=30, p=1, total=  16.5s\n",
      "[CV] n_neighbors=10, weights=uniform, leaf_size=30, p=1 ..............\n"
     ]
    },
    {
     "name": "stderr",
     "output_type": "stream",
     "text": [
      "[Parallel(n_jobs=1)]: Done   1 out of   1 | elapsed:  1.2min remaining:    0.0s\n"
     ]
    },
    {
     "name": "stdout",
     "output_type": "stream",
     "text": [
      "[CV]  n_neighbors=10, weights=uniform, leaf_size=30, p=1, total=  16.3s\n",
      "[CV] n_neighbors=10, weights=uniform, leaf_size=30, p=1 ..............\n",
      "[CV]  n_neighbors=10, weights=uniform, leaf_size=30, p=1, total=  15.2s\n",
      "[CV] n_neighbors=10, weights=uniform, leaf_size=30, p=1 ..............\n",
      "[CV]  n_neighbors=10, weights=uniform, leaf_size=30, p=1, total=  14.6s\n",
      "[CV] n_neighbors=10, weights=uniform, leaf_size=30, p=1 ..............\n",
      "[CV]  n_neighbors=10, weights=uniform, leaf_size=30, p=1, total=  14.5s\n",
      "[CV] n_neighbors=10, weights=distance, leaf_size=30, p=1 .............\n",
      "[CV]  n_neighbors=10, weights=distance, leaf_size=30, p=1, total=  15.3s\n",
      "[CV] n_neighbors=10, weights=distance, leaf_size=30, p=1 .............\n",
      "[CV]  n_neighbors=10, weights=distance, leaf_size=30, p=1, total=  14.6s\n",
      "[CV] n_neighbors=10, weights=distance, leaf_size=30, p=1 .............\n",
      "[CV]  n_neighbors=10, weights=distance, leaf_size=30, p=1, total=  15.4s\n",
      "[CV] n_neighbors=10, weights=distance, leaf_size=30, p=1 .............\n",
      "[CV]  n_neighbors=10, weights=distance, leaf_size=30, p=1, total=  14.6s\n",
      "[CV] n_neighbors=10, weights=distance, leaf_size=30, p=1 .............\n",
      "[CV]  n_neighbors=10, weights=distance, leaf_size=30, p=1, total=  14.8s\n",
      "[CV] n_neighbors=10, weights=uniform, leaf_size=30, p=2 ..............\n",
      "[CV]  n_neighbors=10, weights=uniform, leaf_size=30, p=2, total=  11.0s\n",
      "[CV] n_neighbors=10, weights=uniform, leaf_size=30, p=2 ..............\n",
      "[CV]  n_neighbors=10, weights=uniform, leaf_size=30, p=2, total=  11.5s\n",
      "[CV] n_neighbors=10, weights=uniform, leaf_size=30, p=2 ..............\n",
      "[CV]  n_neighbors=10, weights=uniform, leaf_size=30, p=2, total=  11.4s\n",
      "[CV] n_neighbors=10, weights=uniform, leaf_size=30, p=2 ..............\n",
      "[CV]  n_neighbors=10, weights=uniform, leaf_size=30, p=2, total=  10.6s\n",
      "[CV] n_neighbors=10, weights=uniform, leaf_size=30, p=2 ..............\n",
      "[CV]  n_neighbors=10, weights=uniform, leaf_size=30, p=2, total=  11.0s\n",
      "[CV] n_neighbors=10, weights=distance, leaf_size=30, p=2 .............\n",
      "[CV]  n_neighbors=10, weights=distance, leaf_size=30, p=2, total=  11.0s\n",
      "[CV] n_neighbors=10, weights=distance, leaf_size=30, p=2 .............\n",
      "[CV]  n_neighbors=10, weights=distance, leaf_size=30, p=2, total=  11.3s\n",
      "[CV] n_neighbors=10, weights=distance, leaf_size=30, p=2 .............\n",
      "[CV]  n_neighbors=10, weights=distance, leaf_size=30, p=2, total=  13.4s\n",
      "[CV] n_neighbors=10, weights=distance, leaf_size=30, p=2 .............\n",
      "[CV]  n_neighbors=10, weights=distance, leaf_size=30, p=2, total=  13.5s\n",
      "[CV] n_neighbors=10, weights=distance, leaf_size=30, p=2 .............\n",
      "[CV]  n_neighbors=10, weights=distance, leaf_size=30, p=2, total=  12.0s\n",
      "[CV] n_neighbors=10, weights=uniform, leaf_size=30, p=3 ..............\n",
      "[CV]  n_neighbors=10, weights=uniform, leaf_size=30, p=3, total=  52.1s\n",
      "[CV] n_neighbors=10, weights=uniform, leaf_size=30, p=3 ..............\n",
      "[CV]  n_neighbors=10, weights=uniform, leaf_size=30, p=3, total=  51.8s\n",
      "[CV] n_neighbors=10, weights=uniform, leaf_size=30, p=3 ..............\n"
     ]
    }
   ],
   "source": [
    "# KNN regressor start_end_Lon_lat grid_search\n",
    "\n",
    "\n",
    "params = {\"n_neighbors\":[10,20,30],\"leaf_size\":[30,50,70],\"p\":[1,2,3],\"weights\":[\"uniform\",\"distance\"]}\n",
    "model = GridSearchCV(KNeighborsRegressor(),params,cv=5,verbose=2,scoring=\"neg_mean_squared_log_error\")\n",
    "print model\n",
    "\n",
    "min_max_scaler = MinMaxScaler()\n",
    "train_x = train[[\"pickup_longitude\",\"pickup_latitude\",\"dropoff_longitude\",\"dropoff_latitude\"]].values\n",
    "train_y = train[\"trip_duration\"].values\n",
    "test_x = test[[\"pickup_longitude\",\"pickup_latitude\",\"dropoff_longitude\",\"dropoff_latitude\"]].values\n",
    "min_max_scaler.fit(np.concatenate([train_x,test_x]))\n",
    "transform_train_x = min_max_scaler.transform(train_x)\n",
    "transform_test_x = min_max_scaler.transform(test_x)\n",
    "# model = KNeighborsRegressor()\n",
    "model.fit(transform_train_x,train_y)\n",
    "predicts = model.predict(transform_test_x)\n",
    "test[\"trip_duration\"] = predicts\n",
    "save_result(test[[\"id\",\"trip_duration\"]],\"../result/start_end_Lon_Lat_KNN_gridsearch_avg.csv\")"
   ]
  },
  {
   "cell_type": "code",
   "execution_count": null,
   "metadata": {
    "collapsed": true
   },
   "outputs": [],
   "source": [
    ""
   ]
  }
 ],
 "metadata": {
  "kernelspec": {
   "display_name": "Python 2",
   "language": "python",
   "name": "python2"
  },
  "language_info": {
   "codemirror_mode": {
    "name": "ipython",
    "version": 2.0
   },
   "file_extension": ".py",
   "mimetype": "text/x-python",
   "name": "python",
   "nbconvert_exporter": "python",
   "pygments_lexer": "ipython2",
   "version": "2.7.12"
  }
 },
 "nbformat": 4,
 "nbformat_minor": 0
}