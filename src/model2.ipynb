{
 "cells": [
  {
   "cell_type": "code",
   "execution_count": 1,
   "metadata": {
    "collapsed": true
   },
   "outputs": [],
   "source": [
    "from util import *\n",
    "import pandas as pd\n",
    "import numpy as np\n",
    "from TreeModel import *\n",
    "#主要是树模型"
   ]
  },
  {
   "cell_type": "code",
   "execution_count": null,
   "metadata": {},
   "outputs": [
    {
     "name": "stdout",
     "output_type": "stream",
     "text": [
      "loading train ...\n",
      "load train finish\n",
      "loading test ...\n",
      "load test finish\n",
      "(1458643, 35)\n",
      "(625134, 33)\n",
      "in train, null size is  0\n",
      "in test, null size is  0\n",
      "train columns: Index([u'id', u'vendor_id', u'pickup_datetime', u'dropoff_datetime',\n",
      "       u'passenger_count', u'pickup_longitude', u'pickup_latitude',\n",
      "       u'dropoff_longitude', u'dropoff_latitude', u'store_and_fwd_flag',\n",
      "       u'trip_duration', u'starting_street', u'end_street', u'total_distance',\n",
      "       u'total_travel_time', u'number_of_steps', u'street_for_each_step',\n",
      "       u'distance_per_step', u'travel_time_per_step', u'step_maneuvers',\n",
      "       u'step_direction', u'step_location_list', u'start_time', u'month',\n",
      "       u'day', u'hour', u'minute', u'second', u'weekday', u'dayofyear',\n",
      "       u'weekofyear', u'left', u'right', u'straight', u'store_and_fwd_int'],\n",
      "      dtype='object')\n"
     ]
    }
   ],
   "source": [
    "train,test = load_train_and_test()"
   ]
  },
  {
   "cell_type": "code",
   "execution_count": null,
   "metadata": {},
   "outputs": [
    {
     "name": "stdout",
     "output_type": "stream",
     "text": [
      "features: ['vendor_id', 'passenger_count', 'pickup_longitude', 'pickup_latitude', 'dropoff_longitude', 'dropoff_latitude', 'store_and_fwd_int', 'total_distance', 'number_of_steps', 'left', 'right', 'straight', 'month', 'hour', 'weekday', 'dayofyear', 'weekofyear']\n",
      "feature size: 17\n",
      "1\n"
     ]
    }
   ],
   "source": [
    "from TreeModel import ExtraTreeMain\n",
    "ExtraTreeMain(train, test)"
   ]
  },
  {
   "cell_type": "code",
   "execution_count": null,
   "metadata": {
    "collapsed": true
   },
   "outputs": [],
   "source": []
  }
 ],
 "metadata": {
  "kernelspec": {
   "display_name": "Python 2",
   "language": "python",
   "name": "python2"
  },
  "language_info": {
   "codemirror_mode": {
    "name": "ipython",
    "version": 2
   },
   "file_extension": ".py",
   "mimetype": "text/x-python",
   "name": "python",
   "nbconvert_exporter": "python",
   "pygments_lexer": "ipython2",
   "version": "2.7.12"
  }
 },
 "nbformat": 4,
 "nbformat_minor": 1
}
