{
 "cells": [
  {
   "cell_type": "code",
   "execution_count": 7,
   "metadata": {
    "collapsed": true
   },
   "outputs": [],
   "source": [
    "from util import *\n",
    "import pandas as pd\n",
    "import numpy as np\n",
    "from sklearn.ensemble import RandomForestRegressor\n",
    "from sklearn.ensemble import ExtraTreesRegressor\n",
    "#主要是树模型"
   ]
  },
  {
   "cell_type": "code",
   "execution_count": 3,
   "metadata": {},
   "outputs": [
    {
     "name": "stdout",
     "output_type": "stream",
     "text": [
      "loading train ...\n",
      "load train finish\n",
      "loading test ...\n",
      "load test finish\n",
      "(1458643, 34)\n",
      "(625134, 32)\n"
     ]
    }
   ],
   "source": [
    "train = load_train()\n",
    "test = load_test()\n",
    "print train.shape\n",
    "print test.shape\n"
   ]
  },
  {
   "cell_type": "code",
   "execution_count": 9,
   "metadata": {},
   "outputs": [
    {
     "name": "stdout",
     "output_type": "stream",
     "text": [
      "in train, null size is  0\n",
      "in test, null size is  0\n",
      "train columns: Index([u'id', u'vendor_id', u'pickup_datetime', u'dropoff_datetime',\n",
      "       u'passenger_count', u'pickup_longitude', u'pickup_latitude',\n",
      "       u'dropoff_longitude', u'dropoff_latitude', u'store_and_fwd_flag',\n",
      "       u'trip_duration', u'starting_street', u'end_street', u'total_distance',\n",
      "       u'total_travel_time', u'number_of_steps', u'street_for_each_step',\n",
      "       u'distance_per_step', u'travel_time_per_step', u'step_maneuvers',\n",
      "       u'step_direction', u'step_location_list', u'start_time', u'month',\n",
      "       u'day', u'hour', u'minute', u'second', u'weekday', u'dayofyear',\n",
      "       u'weekofyear'],\n",
      "      dtype='object')\n"
     ]
    }
   ],
   "source": [
    "train_null_size = pd.isnull(train).sum().sum()\n",
    "print \"in train, null size is \", train_null_size\n",
    "test_null_size= pd.isnull(test).sum().sum()\n",
    "print \"in test, null size is \", test_null_size\n",
    "\n",
    "print \"train columns:\",train.columns"
   ]
  },
  {
   "cell_type": "code",
   "execution_count": 6,
   "metadata": {},
   "outputs": [
    {
     "name": "stdout",
     "output_type": "stream",
     "text": [
      "features: ['vendor_id', 'passenger_count', 'pickup_longitude', 'pickup_latitude', 'dropoff_longitude', 'dropoff_latitude', 'store_and_fwd_flag', 'total_distance', 'number_of_steps', 'left', 'right', 'straight', 'month', 'hour', 'weekday', 'dayofyear', 'weekofyear']\n",
      "feature size: 17\n"
     ]
    }
   ],
   "source": [
    "train_y = train[\"trip_duration\"].values\n",
    "x_columns = [\"vendor_id\",\n",
    "                   \"passenger_count\",\n",
    "                   \"pickup_longitude\",\"pickup_latitude\",'dropoff_longitude', 'dropoff_latitude',\n",
    "                   'store_and_fwd_flag',\n",
    "                   'total_distance',\n",
    "                   'number_of_steps',\n",
    "                   'left','right','straight',\n",
    "                   'month',\n",
    "                   'hour',\n",
    "                   'weekday',\n",
    "                   'dayofyear',\n",
    "                   'weekofyear'\n",
    "                  ]\n",
    "print \"features:\",x_columns\n",
    "print \"feature size:\",len(x_columns)\n",
    "\n",
    "train_x = train[x_columns]\n",
    "test_x = test[x_columns]\n",
    "\n",
    "model = ExtraTreesRegressor()\n",
    "model.fit(train_x,train_y)\n",
    "predict_and_save_result(model,test_x,test,\"../result/.csv\")\n",
    "\n",
    "\n",
    "# pd.value_counts(steps)\n",
    "# train[\"left\"] = steps.map(lambda x: type(x))\n",
    "# train.left"
   ]
  },
  {
   "cell_type": "code",
   "execution_count": null,
   "metadata": {
    "collapsed": true
   },
   "outputs": [],
   "source": []
  }
 ],
 "metadata": {
  "kernelspec": {
   "display_name": "Python 2",
   "language": "python",
   "name": "python2"
  }
 },
 "nbformat": 4,
 "nbformat_minor": 2
}
